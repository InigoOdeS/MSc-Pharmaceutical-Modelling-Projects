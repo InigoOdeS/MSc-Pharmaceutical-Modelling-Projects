{
 "cells": [
  {
   "cell_type": "code",
   "execution_count": 1,
   "metadata": {},
   "outputs": [],
   "source": [
    "def cleandata(f): #creates a function to convert data\n",
    "    d = open(f,\"r\") \n",
    "    l = list() #creates a list for each line of the firt haploid\n",
    "    m = list() #creates a list for each line of the second haploid\n",
    "    for line in d:\n",
    "        line.strip() \n",
    "        if 'NODE_60_length_5967_cov_29.0293_ID_119' in line and \"......\" in line: \n",
    "                a = line.split()\n",
    "                l.append(a[2]) #adds to the l list the sequence of the first haploid only\n",
    "\n",
    "        if 'NODE_61_length_5959_cov_20.5259_ID_121' in line and \"......\" in line:\n",
    "                b = line.split()\n",
    "                m.append(b[2]) #adds to the m list the sequence of the first haploid only\n",
    "\n",
    "        if 'Matrix: blastn matrix 1 -2' in line:\n",
    "                 break #to stop after one patient\n",
    "     \n",
    "    l.insert(0, \".\") #inserts an extra \".\" in the beginning of the l list so that later the position is given correctly\n",
    "    m.insert(0, \".\") #inserts an extra \".\" in the beginning of the m list so that later the position is given correctly\n",
    "    ll = \"\".join(l) #joins the characters(lines) of list l into a single string\n",
    "    mm = \"\".join(str(v) for v in m) #joins the characters(lines) of list m into a single string\n",
    "    \n",
    "    \n",
    "    print(\"A:\", [pos for pos, char in enumerate(ll) if char != \".\"]) #From Stackoverflow: gives the position of the elements that are different than \".\" in the newly formed ll list, which are the mutations for the first haploid\n",
    "    print(\"B:\", [pos for pos, char in enumerate(mm) if char != \".\"]) #From Stackoverflow: gives the position of the elements that are different than \".\" in the newly formed mm list, which are the mutations for the second haploid"
   ]
  },
  {
   "cell_type": "code",
   "execution_count": 2,
   "metadata": {},
   "outputs": [
    {
     "name": "stdout",
     "output_type": "stream",
     "text": [
      "A: [134, 267, 339, 345, 393, 396, 405, 417, 471, 597, 627, 990, 1044, 1047, 1050, 1051, 1056, 1059, 1062, 1071, 1078, 1104, 1113, 1236, 1245, 1347, 1348, 1353, 1356, 1407, 1416, 1494, 1581, 1588, 1596, 1647, 1659, 1665, 1680, 1707, 1749, 1773, 1776, 1809, 1845, 1857, 1872, 1914, 1923, 1956, 1971, 1995, 2052, 2082, 2124, 2138, 2157, 2193, 2199, 2205, 2211, 2244, 2256, 2301, 2307, 2406, 2427, 2430, 2433, 2445, 2457, 2475, 2481, 2484, 2496, 2511, 2514, 2517, 2523, 2529, 2559, 2565, 2577, 2590, 2592, 2595, 2601, 2607, 2614, 2616, 2619, 2628, 2661, 2688, 2692, 2694, 2697, 2700, 2718, 2769, 2772, 2775, 2784, 2796]\n",
      "B: [252, 267, 300, 339, 357, 393, 396, 405, 417, 443, 471, 597, 627, 769, 1044, 1047, 1050, 1051, 1056, 1059, 1062, 1071, 1078, 1104, 1113, 1236, 1245, 1347, 1348, 1353, 1356, 1407, 1416, 1494, 1581, 1602, 1647, 1653, 1660, 1674, 1677, 1680, 1707, 1761, 1773, 1776, 1809, 1857, 1863, 1914, 1917, 1923, 1956, 1989, 2052, 2082, 2124, 2157, 2193, 2199, 2205, 2211, 2244, 2256, 2301, 2307, 2403, 2406, 2424, 2427, 2430, 2433, 2445, 2457, 2475, 2481, 2484, 2496, 2511, 2514, 2523, 2529, 2550, 2559, 2565, 2577, 2583, 2590, 2592, 2595, 2607, 2614, 2616, 2620, 2628, 2649, 2661, 2670, 2688, 2691, 2694, 2695, 2697, 2700, 2709, 2718, 2772, 2775, 2805, 2865, 2872, 2886, 2904, 2919, 2934, 2976, 2991, 3003, 3009, 3042, 3054, 3066, 3105, 3109, 3111, 3135]\n"
     ]
    }
   ],
   "source": [
    "cleandata(\"BP1889_genetics_19.dat\") "
   ]
  },
  {
   "cell_type": "code",
   "execution_count": null,
   "metadata": {},
   "outputs": [],
   "source": []
  }
 ],
 "metadata": {
  "kernelspec": {
   "display_name": "Python 3",
   "language": "python",
   "name": "python3"
  },
  "language_info": {
   "codemirror_mode": {
    "name": "ipython",
    "version": 3
   },
   "file_extension": ".py",
   "mimetype": "text/x-python",
   "name": "python",
   "nbconvert_exporter": "python",
   "pygments_lexer": "ipython3",
   "version": "3.7.0"
  }
 },
 "nbformat": 4,
 "nbformat_minor": 2
}
